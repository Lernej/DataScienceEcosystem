{
 "cells": [
  {
   "cell_type": "markdown",
   "id": "7f57f8a8-01f2-47d9-8a52-638a91b4ad85",
   "metadata": {},
   "source": [
    "# Data Science Tools and Ecosystem"
   ]
  },
  {
   "cell_type": "markdown",
   "id": "959b2c07-bc09-4878-9bb4-87320d006884",
   "metadata": {},
   "source": [
    "This notebook describes Data Science Tools and Libraries, and includes some basic code."
   ]
  },
  {
   "cell_type": "markdown",
   "id": "7f425c73-fcfe-4a5f-b054-35a056171739",
   "metadata": {},
   "source": [
    "__Objectives__:\n",
    "- Identify main programming languages for Data Science\n",
    "- Identify libraries used in Data Science\n",
    "- Identify open source tools for Data Science\n",
    "- Perform basic Python arithmetic operations"
   ]
  },
  {
   "cell_type": "markdown",
   "id": "6543f47d-0499-4178-98b5-b3959d8a8134",
   "metadata": {},
   "source": [
    "### Main Data Science Programming Languages\n",
    "Some of the programming languages data scientists use are:\n",
    "1. Python\n",
    "2. R\n",
    "3. SQL\n",
    "4. Scala\n",
    "5. Java\n",
    "6. C++\n",
    "7. Julia \n",
    "8. JavaScript\n",
    "9. Go\n",
    "10. PHP\n",
    "11. Ruby\n",
    "12. Visual Basic"
   ]
  },
  {
   "cell_type": "markdown",
   "id": "3c261f22-d4b5-44ba-bd9e-b469c3cf4d02",
   "metadata": {},
   "source": [
    "### Data Science Libraries ###\n",
    "Some of the commonly used Data science libraries are:\n",
    "1. Pandas\n",
    "2.  NumPy\n",
    "3.  Matplotlib\n",
    "4.  Seaborn\n",
    "5.  Scikit-learn\n",
    "6.  Keras\n",
    "7.  TensorFlow\n",
    "8.  PyTorch\n",
    "9.  Vegas\n",
    "10.  BigDL\n",
    "11.  ggplot2"
   ]
  },
  {
   "cell_type": "markdown",
   "id": "dbbf9c59-7f29-4866-bb32-81c78b0baeaf",
   "metadata": {},
   "source": [
    "|Data Science Tools|\n",
    "|---------|\n",
    "|Jupyter|\n",
    "|RStudio|\n",
    "|Apache Spark|"
   ]
  },
  {
   "cell_type": "markdown",
   "id": "0825cfe6-3c01-4849-bd3d-a81fe662571b",
   "metadata": {},
   "source": [
    "### Here are some arithmetic expressions in python: ###"
   ]
  },
  {
   "cell_type": "code",
   "execution_count": 9,
   "id": "27b74249-4634-4711-a403-8b6a5b91b688",
   "metadata": {},
   "outputs": [
    {
     "data": {
      "text/plain": [
       "17"
      ]
     },
     "execution_count": 9,
     "metadata": {},
     "output_type": "execute_result"
    }
   ],
   "source": [
    "# This is a simple multi-step arithmetic expression\n",
    "(3*4)+5"
   ]
  },
  {
   "cell_type": "code",
   "execution_count": 1,
   "id": "ec8c8455-9708-4227-a0df-0c1fa888e7a1",
   "metadata": {},
   "outputs": [
    {
     "data": {
      "text/plain": [
       "3.3333333333333335"
      ]
     },
     "execution_count": 1,
     "metadata": {},
     "output_type": "execute_result"
    }
   ],
   "source": [
    "# This cell converts 200 minutes to hours by dividing 200 by 60\n",
    "200/60"
   ]
  },
  {
   "cell_type": "markdown",
   "id": "a0fbbca9-fe60-4cb8-971e-791e9de632a8",
   "metadata": {},
   "source": [
    "## Author ##\n",
    "Noah Lerner"
   ]
  }
 ],
 "metadata": {
  "kernelspec": {
   "display_name": "Python",
   "language": "python",
   "name": "conda-env-python-py"
  },
  "language_info": {
   "codemirror_mode": {
    "name": "ipython",
    "version": 3
   },
   "file_extension": ".py",
   "mimetype": "text/x-python",
   "name": "python",
   "nbconvert_exporter": "python",
   "pygments_lexer": "ipython3",
   "version": "3.7.12"
  }
 },
 "nbformat": 4,
 "nbformat_minor": 5
}
